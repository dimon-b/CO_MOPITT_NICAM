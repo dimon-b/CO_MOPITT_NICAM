{
 "cells": [
  {
   "cell_type": "code",
   "execution_count": 1,
   "metadata": {},
   "outputs": [],
   "source": [
    "# --- import libraries\n",
    "import os\n",
    "import h5py\n",
    "import matplotlib as mpl\n",
    "import matplotlib.pyplot as plt\n",
    "os.environ[\"PROJ_LIB\"] = \"C:/Users/admin/Anaconda3/Library/share\"\n",
    "from mpl_toolkits.basemap import Basemap\n",
    "import numpy as np"
   ]
  },
  {
   "cell_type": "code",
   "execution_count": 2,
   "metadata": {},
   "outputs": [],
   "source": [
    "# --- path\n",
    "path = '../'\n",
    "inp_dir = path + 'inp_data/'\n",
    "out_dir = path + 'out_data/'\n",
    "mid_dir = path + 'mid_dir/'\n",
    "plt_dir = path + 'plots/'"
   ]
  },
  {
   "cell_type": "code",
   "execution_count": 3,
   "metadata": {},
   "outputs": [],
   "source": [
    "# === read all datasets in file and test for group\n",
    "def read_h5_info(filename):\n",
    "\n",
    "    # --- check file structure\n",
    "    def traverse_datasets(hdf_file):\n",
    "        def h5py_dataset_iterator(g, prefix=''):\n",
    "            for key in g.keys():\n",
    "                item = g[key]\n",
    "                path = f'{prefix}/{key}'\n",
    "                if isinstance(item, h5py.Dataset):  # test for dataset\n",
    "                    yield (path, item)\n",
    "                elif isinstance(item, h5py.Group):  # test for group (go down)\n",
    "                    yield from h5py_dataset_iterator(item, path)\n",
    "\n",
    "        with h5py.File(hdf_file, 'r') as f:\n",
    "            for path, _ in h5py_dataset_iterator(f):\n",
    "                yield path\n",
    "\n",
    "    # --- open\n",
    "    f = h5py.File(filename, 'r')\n",
    "\n",
    "    # --- read structure\n",
    "    for dset in traverse_datasets(filename):\n",
    "        print('Path:', dset)\n",
    "        print('Shape:', f[dset].shape)\n",
    "        print('Data type:', f[dset].dtype)"
   ]
  },
  {
   "cell_type": "code",
   "execution_count": 4,
   "metadata": {},
   "outputs": [],
   "source": [
    "def save_plot(path, ext='png', close=True, verbose=True):\n",
    "    import matplotlib.pyplot as plt\n",
    "    import os\n",
    "\n",
    "    \"\"\"Save a figure from pyplot.\n",
    "    Parameters\n",
    "    ----------\n",
    "    path : string\n",
    "        The path (and filename, without the extension) to save the\n",
    "        figure to.\n",
    "    ext : string (default='png')\n",
    "        The file extension. This must be supported by the active\n",
    "        matplotlib backend (see matplotlib.backends module).  Most\n",
    "        backends support 'png', 'pdf', 'ps', 'eps', and 'svg'.\n",
    "    close : boolean (default=True)\n",
    "        Whether to close the figure after saving.  If you want to save\n",
    "        the figure multiple times (e.g., to multiple formats), you\n",
    "        should NOT close it in between saves or you will have to\n",
    "        re-plot it.\n",
    "    verbose : boolean (default=True)\n",
    "        Whether to print information about when and where the image\n",
    "        has been saved.\n",
    "    \"\"\"\n",
    "    # --- Extract the directory and filename from the given path\n",
    "    directory = os.path.split(path)[0]\n",
    "    filename = \"%s.%s\"%(os.path.split(path)[1], ext)\n",
    "    if directory == '':\n",
    "        directory = '.'\n",
    "\n",
    "    # --- If the directory does not exist, create it\n",
    "    if not os.path.exists(directory):\n",
    "        os.makedirs(directory)\n",
    "\n",
    "    # --- The final path to save to\n",
    "    savepath = os.path.join(directory, filename)\n",
    "\n",
    "    if verbose:\n",
    "        print('        Saving figure to           : ', savepath)\n",
    "\n",
    "    # --- Actually save the figure\n",
    "    plt.savefig(savepath, dpi=600, bbox_inches='tight')\n",
    "\n",
    "    # --- Close it\n",
    "    if close:\n",
    "        plt.close()\n",
    "\n",
    "    if verbose:\n",
    "        print(\"plot_save - OK\")"
   ]
  },
  {
   "cell_type": "code",
   "execution_count": 5,
   "metadata": {},
   "outputs": [],
   "source": [
    "fname = inp_dir + 'MOP02J-20150101-L2V16.2.3.he5'"
   ]
  },
  {
   "cell_type": "code",
   "execution_count": 6,
   "metadata": {},
   "outputs": [],
   "source": [
    "#read_h5_info(fname)"
   ]
  },
  {
   "cell_type": "code",
   "execution_count": 12,
   "metadata": {},
   "outputs": [],
   "source": [
    "with h5py.File(fname, mode='r') as f:\n",
    "    \n",
    "    name = '/HDFEOS/SWATHS/MOP02/Data Fields/RetrievedCOTotalColumn'\n",
    "    data = f[name][:, 0]\n",
    "    \n",
    "    # units attribute is an array of string.\n",
    "    #units = f[name].attrs['units'][0]\n",
    "    fillvalue = f[name].attrs['_FillValue']\n",
    "\n",
    "    data[data == fillvalue] = np.nan\n",
    "\n",
    "    # Get the geolocation data\n",
    "    latitude = f['/HDFEOS/SWATHS/MOP02/Geolocation Fields/Latitude'][:]\n",
    "    longitude = f['/HDFEOS/SWATHS/MOP02/Geolocation Fields/Longitude'][:]\n",
    "\n",
    "    m = Basemap(projection='cyl', resolution='l',\n",
    "                 llcrnrlat=-90, urcrnrlat=90,\n",
    "                 llcrnrlon=-180, urcrnrlon=180)\n",
    "#                llcrnrlat=40, urcrnrlat=70,\n",
    "#                llcrnrlon=70, urcrnrlon=110)    \n",
    "#                llcrnrlat=20, urcrnrlat=50,\n",
    "#                llcrnrlon=100, urcrnrlon=160)    \n",
    "    m.drawcoastlines(linewidth=0.5)\n",
    "    m.drawparallels(np.arange(-90, 91, 30))\n",
    "    m.drawmeridians(np.arange(-180, 180, 30), labels=[True,False,False,True])\n",
    "    sc = m.scatter(longitude, latitude, c=data, s=1, cmap=plt.cm.jet,\n",
    "                   edgecolors=None, linewidth=0)\n",
    "    cb = m.colorbar()\n",
    "    #cb.set_label(units)\n",
    "\n",
    "    basename = os.path.basename(fname)\n",
    "    plt.title('{0}\\n{1}'.format(basename, 'RetrievedCOTotalColumn'))\n",
    "    \n",
    "    # --- save to plot\n",
    "    plot_name = plt_dir + basename\n",
    "    save_plot(plot_name, ext=\"png\", close=True, verbose=False)\n",
    "    #plt.show()"
   ]
  }
 ],
 "metadata": {
  "kernelspec": {
   "display_name": "Python 3",
   "language": "python",
   "name": "python3"
  },
  "language_info": {
   "codemirror_mode": {
    "name": "ipython",
    "version": 3
   },
   "file_extension": ".py",
   "mimetype": "text/x-python",
   "name": "python",
   "nbconvert_exporter": "python",
   "pygments_lexer": "ipython3",
   "version": "3.7.3"
  }
 },
 "nbformat": 4,
 "nbformat_minor": 2
}
